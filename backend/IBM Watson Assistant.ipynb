{
 "cells": [
  {
   "cell_type": "code",
   "execution_count": 22,
   "id": "4a826db8",
   "metadata": {},
   "outputs": [],
   "source": [
    "from ibm_watson import AssistantV2\n",
    "from ibm_cloud_sdk_core.authenticators import IAMAuthenticator\n",
    "\n",
    "api_key = 'LzvkiFJ84q4ONCf3JZarYUCSWkj-a9ir7tSaqSW0rdiM'\n",
    "service_url = 'https://api.us-east.assistant.watson.cloud.ibm.com/instances/e71894f6-ad3b-4bc3-b659-fe0c78d950f1'\n",
    "environment_id = '931fb737-569f-47a2-8a05-a47cb8aadd13'\n",
    "\n",
    "authenticator = IAMAuthenticator(api_key)\n",
    "assistant = AssistantV2(\n",
    "    version='2023-09-16',\n",
    "    authenticator=authenticator\n",
    ")\n",
    "\n",
    "assistant.set_service_url(service_url)"
   ]
  },
  {
   "cell_type": "code",
   "execution_count": 39,
   "id": "9d246453",
   "metadata": {},
   "outputs": [],
   "source": [
    "response = assistant.create_session(\n",
    "    assistant_id = environment_id\n",
    ").get_result()\n",
    "session_id = response['session_id']"
   ]
  },
  {
   "cell_type": "code",
   "execution_count": 40,
   "id": "e93a27cb",
   "metadata": {},
   "outputs": [],
   "source": [
    "response = assistant.message(\n",
    "    assistant_id = environment_id,\n",
    "    session_id = session_id,\n",
    "    input={\n",
    "        'message_type': 'text',\n",
    "        'text': 'You are Daniel. You are playing a game with other people. Everyone has roles assigned to them. You are assigned the role of Civilian. Your job is to protect the President from the Assassin. Here is a conversation between Ethan and Daniel. Daniel: hi there Ethan: hi! Daniel:'\n",
    "    }\n",
    ").get_result()"
   ]
  },
  {
   "cell_type": "code",
   "execution_count": 41,
   "id": "b1bacc9d",
   "metadata": {},
   "outputs": [
    {
     "data": {
      "text/plain": [
       "{'output': {'intents': [],\n",
       "  'entities': [],\n",
       "  'generic': [{'response_type': 'text',\n",
       "    'text': \"I'm afraid I don't understand. Please rephrase your question.\"}]},\n",
       " 'user_id': '1af35e00-b875-4236-aca7-bae6775eaca4'}"
      ]
     },
     "execution_count": 41,
     "metadata": {},
     "output_type": "execute_result"
    }
   ],
   "source": [
    "response"
   ]
  },
  {
   "cell_type": "code",
   "execution_count": null,
   "id": "5661c621",
   "metadata": {},
   "outputs": [],
   "source": []
  }
 ],
 "metadata": {
  "kernelspec": {
   "display_name": "Python 3 (ipykernel)",
   "language": "python",
   "name": "python3"
  },
  "language_info": {
   "codemirror_mode": {
    "name": "ipython",
    "version": 3
   },
   "file_extension": ".py",
   "mimetype": "text/x-python",
   "name": "python",
   "nbconvert_exporter": "python",
   "pygments_lexer": "ipython3",
   "version": "3.11.4"
  }
 },
 "nbformat": 4,
 "nbformat_minor": 5
}
