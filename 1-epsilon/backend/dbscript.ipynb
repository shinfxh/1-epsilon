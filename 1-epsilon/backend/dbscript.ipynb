{
 "cells": [
  {
   "cell_type": "code",
   "execution_count": 1,
   "id": "7c569b38",
   "metadata": {},
   "outputs": [],
   "source": [
    "import sqlite3\n",
    "import datetime\n",
    "import numpy as np\n",
    "conn = sqlite3.connect('db.db')"
   ]
  },
  {
   "cell_type": "markdown",
   "id": "1069d0de",
   "metadata": {},
   "source": [
    "## Re-Initialize Table for Player Info"
   ]
  },
  {
   "cell_type": "code",
   "execution_count": 6,
   "id": "22259917",
   "metadata": {},
   "outputs": [
    {
     "data": {
      "text/plain": [
       "<sqlite3.Cursor at 0x7ff8a9937340>"
      ]
     },
     "execution_count": 6,
     "metadata": {},
     "output_type": "execute_result"
    }
   ],
   "source": [
    "#conn.execute(\"DROP TABLE USER\")\n",
    "\n",
    "conn.execute('''CREATE TABLE USER\n",
    "         (ID INT PRIMARY KEY     NOT NULL,\n",
    "         NAME           TEXT    NOT NULL,\n",
    "         ROLE TEXT NOT NULL,\n",
    "         TALK     INT,\n",
    "         LIE INT);''')"
   ]
  },
  {
   "cell_type": "code",
   "execution_count": 7,
   "id": "eba4a66a",
   "metadata": {},
   "outputs": [],
   "source": [
    "conn.execute(\"INSERT INTO USER (ID, NAME, ROLE, TALK, LIE) \\\n",
    "      VALUES (0, 'Player', 'Player', 0, 0)\")\n",
    "conn.execute(\"INSERT INTO USER (ID, NAME, ROLE, TALK, LIE) \\\n",
    "      VALUES (1, 'Alice', 'President', 50, 50)\")\n",
    "conn.execute(\"INSERT INTO USER (ID, NAME, ROLE, TALK, LIE) \\\n",
    "      VALUES (2, 'Bob', 'President', 50, 50)\")\n",
    "\n",
    "civilian_names = ['Cathy', 'Daniel', 'Ethan', 'Felix', 'Grace', 'Hu Yongao', 'Ivan']\n",
    "for i in range(7):\n",
    "    conn.execute(f\"INSERT INTO USER (ID, NAME, ROLE, TALK, LIE) \\\n",
    "      VALUES ({3 + i}, '{civilian_names[i]}', 'Civilian', {np.random.randint(1, 99)}, {np.random.randint(1, 99)})\")\n",
    "    \n",
    "conn.commit()"
   ]
  },
  {
   "cell_type": "markdown",
   "id": "aea0fb21",
   "metadata": {},
   "source": [
    "## Re-initialize Table for Message data"
   ]
  },
  {
   "cell_type": "code",
   "execution_count": 8,
   "id": "023c3e6f",
   "metadata": {},
   "outputs": [],
   "source": [
    "#conn.execute(\"DROP TABLE MESSAGE\")\n",
    "\n",
    "conn.execute('''CREATE TABLE MESSAGE\n",
    "         (ID INT PRIMARY KEY     NOT NULL,\n",
    "         SENDERID           INTEGER    NOT NULL,\n",
    "         RECEIVERID     INTEGER NOT NULL,\n",
    "         CONTENT     TEXT NOT NULL);''')\n",
    "\n",
    "conn.execute(f\"INSERT INTO MESSAGE (ID, SENDERID, RECEIVERID, CONTENT) \\\n",
    "      VALUES (1, 4, 5, 'hi there')\");\n",
    "conn.execute(f\"INSERT INTO MESSAGE (ID, SENDERID, RECEIVERID, CONTENT) \\\n",
    "      VALUES (2, 5, 4, 'hi!')\");\n",
    "\n",
    "conn.commit()"
   ]
  },
  {
   "cell_type": "code",
   "execution_count": 2,
   "id": "35ac0488",
   "metadata": {},
   "outputs": [],
   "source": [
    "conn.execute(f\"INSERT INTO MESSAGE (ID, SENDERID, RECEIVERID, CONTENT)       VALUES (3, 0, 5, 'hello?')\");\n",
    "conn.commit()\n",
    "\n"
   ]
  },
  {
   "cell_type": "code",
   "execution_count": 3,
   "id": "5ef23e95",
   "metadata": {},
   "outputs": [],
   "source": [
    "conn.close()"
   ]
  },
  {
   "cell_type": "code",
   "execution_count": 11,
   "id": "5b53149c",
   "metadata": {},
   "outputs": [
    {
     "name": "stdout",
     "output_type": "stream",
     "text": [
      "INSERT INTO MESSAGE (ID, SENDERID, RECEIVERID, CONTENT)       VALUES (2, 5, 4, 'hi!')\n"
     ]
    }
   ],
   "source": [
    "print(f\"INSERT INTO MESSAGE (ID, SENDERID, RECEIVERID, CONTENT) \\\n",
    "      VALUES (2, 5, 4, 'hi!')\")"
   ]
  },
  {
   "cell_type": "markdown",
   "id": "4e6c7a7a",
   "metadata": {},
   "source": [
    "# Re-initialize the probabilities"
   ]
  },
  {
   "cell_type": "code",
   "execution_count": 9,
   "id": "55a2387d",
   "metadata": {},
   "outputs": [],
   "source": [
    "#conn.execute(\"DROP TABLE PROB\")\n",
    "\n",
    "conn.execute('''CREATE TABLE PROB\n",
    "         (PERCEIVER_ID INT     NOT NULL,\n",
    "         PERCEIVED_ID           INTEGER    NOT NULL,\n",
    "         P_PRESIDENT     INTEGER NOT NULL,\n",
    "         P_CIVILIAN INTEGER NOT NULL,\n",
    "         P_ASSASSIN INTEGER NOT NULL);''')\n",
    "\n",
    "for i in range(8):\n",
    "    for j in range(8):\n",
    "        if i == j:\n",
    "            continue\n",
    "        conn.execute(f\"INSERT INTO PROB (PERCEIVER_ID, PERCEIVED_ID, P_PRESIDENT, P_CIVILIAN, P_ASSASSIN) \\\n",
    "        VALUES ({i}, {j}, 0.1, 0.8, 0.1)\");\n",
    "\n",
    "conn.commit()"
   ]
  },
  {
   "cell_type": "code",
   "execution_count": 13,
   "id": "e174487a",
   "metadata": {},
   "outputs": [],
   "source": [
    "conn.close()"
   ]
  },
  {
   "cell_type": "code",
   "execution_count": null,
   "id": "91521681",
   "metadata": {},
   "outputs": [],
   "source": []
  }
 ],
 "metadata": {
  "kernelspec": {
   "display_name": "Python 3 (ipykernel)",
   "language": "python",
   "name": "python3"
  },
  "language_info": {
   "codemirror_mode": {
    "name": "ipython",
    "version": 3
   },
   "file_extension": ".py",
   "mimetype": "text/x-python",
   "name": "python",
   "nbconvert_exporter": "python",
   "pygments_lexer": "ipython3",
   "version": "3.9.7"
  }
 },
 "nbformat": 4,
 "nbformat_minor": 5
}
