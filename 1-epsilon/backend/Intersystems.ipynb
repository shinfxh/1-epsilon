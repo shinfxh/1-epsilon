{
 "cells": [
  {
   "cell_type": "code",
   "execution_count": 3,
   "id": "108e061c",
   "metadata": {},
   "outputs": [],
   "source": [
    "import sqlite3\n",
    "import datetime\n",
    "import numpy as np\n",
    "import pandas as pd\n",
    "conn = sqlite3.connect('dbml.db')"
   ]
  },
  {
   "cell_type": "code",
   "execution_count": null,
   "id": "99fa0e8e",
   "metadata": {},
   "outputs": [],
   "source": [
    "conn.execute(\"DROP TABLE PROB\")\n",
    "\n",
    "conn.execute('''CREATE TABLE PROB\n",
    "         (P1     INTEGER NOT NULL,\n",
    "         C1 INTEGER NOT NULL,\n",
    "         A1 INTEGER NOT NULL,\n",
    "         P2 INTEGER NOT NULL,\n",
    "         C2 INTEGER NOT NULL,\n",
    "         A2 INTEGER NOT NULL,\n",
    "         P3 INTEGER, C3 INTEGER, A3 INTEGER,\n",
    "         P4 INTEGER, C4 INTEGER, A4 INTEGER,\n",
    "         VOTED INTEGER);''')\n",
    "\n",
    "for i in range(8):\n",
    "    for j in range(8):\n",
    "        if i == j:\n",
    "            continue\n",
    "        conn.execute(f\"INSERT INTO PROB (P1, C1, A1, P2, C2, A2, P3, C3, A3, P4, C4, A3) \\\n",
    "        VALUES ()\");\n",
    "\n",
    "conn.commit()"
   ]
  },
  {
   "cell_type": "code",
   "execution_count": 16,
   "id": "28e35852",
   "metadata": {},
   "outputs": [],
   "source": [
    "all_probs = []\n",
    "for _ in range(1000):\n",
    "    probs = []\n",
    "    for _ in range(4):\n",
    "        # Generate a random 3D vector\n",
    "        vector = np.random.rand(3)\n",
    "\n",
    "        # Normalize the vector so that it sums to 1\n",
    "        vector = vector / np.sum(vector)\n",
    "\n",
    "        for x in vector:\n",
    "            probs.append(round(100 * x))\n",
    "    probs.append(np.argmax(probs[2::3]) + 1)\n",
    "    all_probs.append(probs)"
   ]
  },
  {
   "cell_type": "code",
   "execution_count": 20,
   "id": "c1766da0",
   "metadata": {},
   "outputs": [],
   "source": [
    "df = pd.DataFrame(all_probs, columns = ['P1', 'C1', 'A1', 'P2', 'C2', 'A2', 'P3', 'C3', 'A3', 'P4', 'C4', 'A3', 'VOTED'])"
   ]
  },
  {
   "cell_type": "code",
   "execution_count": 22,
   "id": "acb9539a",
   "metadata": {},
   "outputs": [],
   "source": [
    "df.to_csv('voting_train.csv')"
   ]
  },
  {
   "cell_type": "code",
   "execution_count": 23,
   "id": "09af8dd9",
   "metadata": {},
   "outputs": [],
   "source": [
    "all_probs = []\n",
    "for _ in range(200):\n",
    "    probs = []\n",
    "    for _ in range(4):\n",
    "        # Generate a random 3D vector\n",
    "        vector = np.random.rand(3)\n",
    "\n",
    "        # Normalize the vector so that it sums to 1\n",
    "        vector = vector / np.sum(vector)\n",
    "\n",
    "        for x in vector:\n",
    "            probs.append(round(100 * x))\n",
    "    probs.append(np.argmax(probs[2::3]) + 1)\n",
    "    all_probs.append(probs)"
   ]
  },
  {
   "cell_type": "code",
   "execution_count": 24,
   "id": "38ffa6a9",
   "metadata": {},
   "outputs": [],
   "source": [
    "df = pd.DataFrame(all_probs, columns = ['P1', 'C1', 'A1', 'P2', 'C2', 'A2', 'P3', 'C3', 'A3', 'P4', 'C4', 'A3', 'VOTED'])"
   ]
  },
  {
   "cell_type": "code",
   "execution_count": 25,
   "id": "bac0f3d7",
   "metadata": {},
   "outputs": [],
   "source": [
    "df.to_csv('voting_test.csv')"
   ]
  },
  {
   "cell_type": "code",
   "execution_count": null,
   "id": "d81b1d2c",
   "metadata": {},
   "outputs": [],
   "source": []
  }
 ],
 "metadata": {
  "kernelspec": {
   "display_name": "Python 3 (ipykernel)",
   "language": "python",
   "name": "python3"
  },
  "language_info": {
   "codemirror_mode": {
    "name": "ipython",
    "version": 3
   },
   "file_extension": ".py",
   "mimetype": "text/x-python",
   "name": "python",
   "nbconvert_exporter": "python",
   "pygments_lexer": "ipython3",
   "version": "3.11.4"
  }
 },
 "nbformat": 4,
 "nbformat_minor": 5
}
